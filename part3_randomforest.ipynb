{
 "cells": [
  {
   "cell_type": "code",
   "execution_count": 33,
   "metadata": {},
   "outputs": [],
   "source": [
    "import matplotlib.pyplot as plt\n",
    "import numpy as np\n",
    "import seaborn as sns\n",
    "\n",
    "from time import time\n",
    "from sklearn import metrics\n",
    "from sklearn.datasets import fetch_openml\n",
    "from sklearn.decomposition import PCA\n",
    "from sklearn.manifold import TSNE\n",
    "from sklearn.cluster import MiniBatchKMeans\n",
    "from sklearn.base import BaseEstimator\n",
    "from sklearn.ensemble import RandomForestClassifier\n",
    "from sklearn.linear_model import LogisticRegression"
   ]
  },
  {
   "cell_type": "code",
   "execution_count": 2,
   "metadata": {},
   "outputs": [],
   "source": [
    "# Données de la première partie récupérée\n",
    "mnist = fetch_openml('mnist_784', version=1)\n",
    "mnist['target'] = mnist['target'].astype('uint8')\n",
    "X = mnist['data']\n",
    "y = mnist['target']"
   ]
  },
  {
   "cell_type": "markdown",
   "metadata": {},
   "source": [
    "## 1. Résultats de RandomForest SANS la réduction de la dimensionnalité des données"
   ]
  },
  {
   "cell_type": "code",
   "execution_count": 3,
   "metadata": {},
   "outputs": [],
   "source": [
    "# Division de la base de données\n",
    "X_train, y_train = X[:60000,:], y[:60000]\n",
    "X_test, y_test = X[60000:,:], y[60000:]"
   ]
  },
  {
   "cell_type": "code",
   "execution_count": 12,
   "metadata": {},
   "outputs": [
    {
     "name": "stdout",
     "output_type": "stream",
     "text": [
      "31.0\n"
     ]
    }
   ],
   "source": [
    "# Classification avec RandomForest\n",
    "start = time()\n",
    "clf = RandomForestClassifier(n_estimators=100)\n",
    "clf = clf.fit(X_train, y_train)\n",
    "end = time()\n",
    "\n",
    "exec_time = end - start\n",
    "print(f'{round(exec_time, 2)}')"
   ]
  },
  {
   "cell_type": "code",
   "execution_count": 14,
   "metadata": {},
   "outputs": [],
   "source": [
    "# Prédiction sur X_test\n",
    "pred = clf.predict(X_test)"
   ]
  },
  {
   "cell_type": "code",
   "execution_count": 19,
   "metadata": {},
   "outputs": [
    {
     "name": "stdout",
     "output_type": "stream",
     "text": [
      "Evaluation avec la fonction du RandomForest: 0.9691\n",
      "Evaluation avec accuracy_score: 0.9691\n"
     ]
    }
   ],
   "source": [
    "# Evaluation du score du modèle\n",
    "print(f'Evaluation avec la fonction du RandomForest: {clf.score(X_test, y_test)}')\n",
    "print(f'Evaluation avec accuracy_score: {metrics.accuracy_score(pred, y_test)}')"
   ]
  },
  {
   "cell_type": "markdown",
   "metadata": {},
   "source": [
    "## 2. Résultats de RandomForest AVEC la réduction de la dimensionnalité des données"
   ]
  },
  {
   "cell_type": "code",
   "execution_count": 25,
   "metadata": {},
   "outputs": [],
   "source": [
    "# Déclaration modèle PCA\n",
    "pca = PCA(n_components=0.95)\n",
    "X_pca = pca.fit_transform(X_train)"
   ]
  },
  {
   "cell_type": "code",
   "execution_count": 26,
   "metadata": {},
   "outputs": [],
   "source": [
    "# Classification avec RandomForest\n",
    "start = time()\n",
    "clf = clf.fit(X_pca, y_train)\n",
    "end = time()"
   ]
  },
  {
   "cell_type": "code",
   "execution_count": 29,
   "metadata": {},
   "outputs": [
    {
     "name": "stdout",
     "output_type": "stream",
     "text": [
      "73.27\n"
     ]
    }
   ],
   "source": [
    "# Calcul du temps de calcul\n",
    "exec_time = end - start\n",
    "print(f'{round(exec_time, 2)}')"
   ]
  },
  {
   "cell_type": "markdown",
   "metadata": {},
   "source": [
    "Le temps d'apprentissage est plus long que pour le premier apprentissage.   \n",
    "Il est environ deux fois plus important que lors du premier apprentissage.  \n",
    "\n",
    "On pouvait s'attendre à ça car on a des données formatés différemment."
   ]
  },
  {
   "cell_type": "code",
   "execution_count": 30,
   "metadata": {},
   "outputs": [],
   "source": [
    "X_pca_test = pca.transform(X_test)"
   ]
  },
  {
   "cell_type": "code",
   "execution_count": 31,
   "metadata": {},
   "outputs": [],
   "source": [
    "# Prédiction sur X_pca_test\n",
    "pred_pca = clf.predict(X_pca_test)"
   ]
  },
  {
   "cell_type": "code",
   "execution_count": 32,
   "metadata": {},
   "outputs": [
    {
     "name": "stdout",
     "output_type": "stream",
     "text": [
      "Evaluation avec la fonction du RandomForest: 0.9468\n",
      "Evaluation avec accuracy_score: 0.9468\n"
     ]
    }
   ],
   "source": [
    "# Evaluation du score du modèle\n",
    "print(f'Evaluation avec la fonction du RandomForest: {clf.score(X_pca_test, y_test)}')\n",
    "print(f'Evaluation avec accuracy_score: {metrics.accuracy_score(pred_pca, y_test)}')"
   ]
  },
  {
   "cell_type": "markdown",
   "metadata": {},
   "source": [
    "On peut conclure que l'application du PCA a fait doubler le temps d'apprentissage du modèle et le score de précision du modèle est moins bon que lorsque l'on utilise pas PCA."
   ]
  },
  {
   "cell_type": "markdown",
   "metadata": {},
   "source": [
    "## 3. Résultats de Softmax SANS la réduction de la dimensionnalité des données"
   ]
  },
  {
   "cell_type": "code",
   "execution_count": 44,
   "metadata": {
    "collapsed": true
   },
   "outputs": [
    {
     "name": "stderr",
     "output_type": "stream",
     "text": [
      "/home/thomasc/anaconda3/lib/python3.8/site-packages/sklearn/linear_model/_logistic.py:762: ConvergenceWarning: lbfgs failed to converge (status=1):\n",
      "STOP: TOTAL NO. of ITERATIONS REACHED LIMIT.\n",
      "\n",
      "Increase the number of iterations (max_iter) or scale the data as shown in:\n",
      "    https://scikit-learn.org/stable/modules/preprocessing.html\n",
      "Please also refer to the documentation for alternative solver options:\n",
      "    https://scikit-learn.org/stable/modules/linear_model.html#logistic-regression\n",
      "  n_iter_i = _check_optimize_result(\n"
     ]
    }
   ],
   "source": [
    "# Classification avec une régression logistique\n",
    "start = time()\n",
    "clf = LogisticRegression(random_state=0, max_iter=100)\n",
    "clf.fit(X_train, y_train)\n",
    "end = time()"
   ]
  },
  {
   "cell_type": "code",
   "execution_count": 45,
   "metadata": {},
   "outputs": [
    {
     "name": "stdout",
     "output_type": "stream",
     "text": [
      "16.09\n"
     ]
    }
   ],
   "source": [
    "# Calcul du temps de calcul\n",
    "exec_time = end - start\n",
    "print(f'{round(exec_time, 2)}')"
   ]
  },
  {
   "cell_type": "code",
   "execution_count": 48,
   "metadata": {},
   "outputs": [],
   "source": [
    "# Prédiction sur X_test\n",
    "pred_log = clf.predict(X_test)"
   ]
  },
  {
   "cell_type": "code",
   "execution_count": 49,
   "metadata": {},
   "outputs": [
    {
     "name": "stdout",
     "output_type": "stream",
     "text": [
      "Evaluation avec la fonction du RandomForest: 0.9255\n",
      "Evaluation avec accuracy_score: 0.9255\n"
     ]
    }
   ],
   "source": [
    "# Evaluation du score du modèle\n",
    "print(f'Evaluation avec la fonction du RandomForest: {clf.score(X_test, y_test)}')\n",
    "print(f'Evaluation avec accuracy_score: {metrics.accuracy_score(pred_log, y_test)}')"
   ]
  },
  {
   "cell_type": "markdown",
   "metadata": {},
   "source": [
    "## 4. Résultats de Softmax AVEC la réduction de la dimensionnalité des données"
   ]
  },
  {
   "cell_type": "code",
   "execution_count": 55,
   "metadata": {},
   "outputs": [],
   "source": [
    "# Application du PCA\n",
    "pca = PCA(n_components=0.95)\n",
    "X_log_pca = pca.fit_transform(X_train)"
   ]
  },
  {
   "cell_type": "code",
   "execution_count": 56,
   "metadata": {
    "collapsed": true
   },
   "outputs": [
    {
     "name": "stderr",
     "output_type": "stream",
     "text": [
      "/home/thomasc/anaconda3/lib/python3.8/site-packages/sklearn/linear_model/_logistic.py:762: ConvergenceWarning: lbfgs failed to converge (status=1):\n",
      "STOP: TOTAL NO. of ITERATIONS REACHED LIMIT.\n",
      "\n",
      "Increase the number of iterations (max_iter) or scale the data as shown in:\n",
      "    https://scikit-learn.org/stable/modules/preprocessing.html\n",
      "Please also refer to the documentation for alternative solver options:\n",
      "    https://scikit-learn.org/stable/modules/linear_model.html#logistic-regression\n",
      "  n_iter_i = _check_optimize_result(\n"
     ]
    }
   ],
   "source": [
    "# Classification avec une régression logistique avec PCA\n",
    "start = time()\n",
    "clf = clf.fit(X_log_pca, y_train)\n",
    "end = time()"
   ]
  },
  {
   "cell_type": "code",
   "execution_count": 57,
   "metadata": {},
   "outputs": [
    {
     "name": "stdout",
     "output_type": "stream",
     "text": [
      "5.29\n"
     ]
    }
   ],
   "source": [
    "# Calcul du temps de calcul\n",
    "exec_time = end - start\n",
    "print(f'{round(exec_time, 2)}')"
   ]
  },
  {
   "cell_type": "markdown",
   "metadata": {},
   "source": [
    "Le temps d'apprentissage est vraiment plus rapide après application du `PCA`, 3 fois plus rapide."
   ]
  },
  {
   "cell_type": "code",
   "execution_count": 58,
   "metadata": {},
   "outputs": [],
   "source": [
    "X_log_pca_test = pca.transform(X_test)"
   ]
  },
  {
   "cell_type": "code",
   "execution_count": 59,
   "metadata": {},
   "outputs": [],
   "source": [
    "# Prédiction sur X_pca_test\n",
    "pred_log_pca = clf.predict(X_log_pca_test)"
   ]
  },
  {
   "cell_type": "code",
   "execution_count": 60,
   "metadata": {},
   "outputs": [
    {
     "name": "stdout",
     "output_type": "stream",
     "text": [
      "Evaluation avec la fonction du RandomForest: 0.9201\n",
      "Evaluation avec accuracy_score: 0.9201\n"
     ]
    }
   ],
   "source": [
    "# Evaluation du score du modèle\n",
    "print(f'Evaluation avec la fonction du RandomForest: {clf.score(X_log_pca_test, y_test)}')\n",
    "print(f'Evaluation avec accuracy_score: {metrics.accuracy_score(pred_log_pca, y_test)}')"
   ]
  },
  {
   "cell_type": "markdown",
   "metadata": {},
   "source": [
    "On voit que le score des deux modèles sont quasiment similaires.  \n",
    "En revanche le temps de calcul était vraiment plus rapide après application du `PCA`."
   ]
  },
  {
   "cell_type": "markdown",
   "metadata": {},
   "source": [
    "#### On voit que l'application n'est pas toujours bénéfique.   \n",
    "\n",
    "#### Pour le cas du `RandomForest` l'application du `PCA` n'est pas bénéfique ni pour le temps d'apprentissage ni pour le score du modèle.   \n",
    "#### En revanche pour `Softmax` l'application du `PCA` est bénéfique pour le temps d'apprentissage et cela n'affecte pas le score."
   ]
  }
 ],
 "metadata": {
  "kernelspec": {
   "display_name": "Python 3",
   "language": "python",
   "name": "python3"
  },
  "language_info": {
   "codemirror_mode": {
    "name": "ipython",
    "version": 3
   },
   "file_extension": ".py",
   "mimetype": "text/x-python",
   "name": "python",
   "nbconvert_exporter": "python",
   "pygments_lexer": "ipython3",
   "version": "3.8.5"
  }
 },
 "nbformat": 4,
 "nbformat_minor": 4
}
